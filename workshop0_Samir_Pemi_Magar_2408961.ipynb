{
  "nbformat": 4,
  "nbformat_minor": 0,
  "metadata": {
    "colab": {
      "provenance": []
    },
    "kernelspec": {
      "name": "python3",
      "display_name": "Python 3"
    },
    "language_info": {
      "name": "python"
    }
  },
  "cells": [
    {
      "cell_type": "markdown",
      "source": [
        "to do task of 7"
      ],
      "metadata": {
        "id": "hVc8RVU6uvqm"
      }
    },
    {
      "cell_type": "markdown",
      "source": [
        "task: 1"
      ],
      "metadata": {
        "id": "wKlH4-gVsLxS"
      }
    },
    {
      "cell_type": "code",
      "execution_count": null,
      "metadata": {
        "colab": {
          "base_uri": "https://localhost:8080/"
        },
        "id": "ed9y4M9ApAWT",
        "outputId": "4d97cc37-225e-4236-ae62-5454aaaf4b38"
      },
      "outputs": [
        {
          "output_type": "stream",
          "name": "stdout",
          "text": [
            "the cold temperature is: [8.2, 7.9, 9.0, 8.5, 7.7, 8.4, 9.5, 8.1, 7.6, 8.0, 7.8, 8.7, 9.2, 8.3, 8.9, 7.8]\n",
            "the mild temperature is: [14.1, 13.5, 13.0, 12.9, 13.3, 14.0, 13.4, 14.2, 12.8, 13.7, 13.6, 13.8, 13.9, 12.7, 13.1, 12.5]\n",
            "the comfortable temperature is [17.4, 18.0, 17.8, 16.5, 17.2, 16.7, 18.3, 17.9, 17.0, 16.8, 17.5, 17.1, 18.1, 16.4, 18.2, 16.6]\n"
          ]
        }
      ],
      "source": [
        "temperature= [8.2, 17.4, 14.1, 7.9, 18.0, 13.5, 9.0, 17.8, 13.0, 8.5,\n",
        "16.5, 12.9, 7.7, 17.2, 13.3, 8.4, 16.7, 14.0, 9.5, 18.3, 13.4, 8.1,\n",
        "17.9, 14.2, 7.6, 17.0, 12.8, 8.0, 16.8, 13.7, 7.8, 17.5, 13.6, 8.7,\n",
        "17.1, 13.8, 9.2, 18.1, 13.9, 8.3, 16.4, 12.7, 8.9, 18.2, 13.1, 7.8,\n",
        "16.6, 12.5]\n",
        "cold_temperature = []\n",
        "mild_temperature = []\n",
        "comfortable_temperature = []\n",
        "for i in temperature:\n",
        "  if i<10 :\n",
        "    cold_temperature.append(i)\n",
        "  elif i>10 and i<16:\n",
        "    mild_temperature.append(i)\n",
        "  else:\n",
        "    comfortable_temperature.append(i)\n",
        "print(f\"the cold temperature is: {cold_temperature}\")\n",
        "print(f\"the mild temperature is: {mild_temperature}\")\n",
        "print(f\"the comfortable temperature is {comfortable_temperature}\")"
      ]
    },
    {
      "cell_type": "markdown",
      "source": [
        "task 2"
      ],
      "metadata": {
        "id": "IsBkSWe_soKt"
      }
    },
    {
      "cell_type": "code",
      "source": [
        "print(f\"the no of time it was cold is: {len(cold_temperature)}\")\n",
        "print(f\"the no of time it was mild is: {len(mild_temperature)}\")\n",
        "print(f\"the no of time it was comfortable is: {len(comfortable_temperature)}\")"
      ],
      "metadata": {
        "colab": {
          "base_uri": "https://localhost:8080/"
        },
        "id": "T6OnY2qlspxX",
        "outputId": "b0e6556b-f4a0-494c-ec2d-8923da8f2384"
      },
      "execution_count": null,
      "outputs": [
        {
          "output_type": "stream",
          "name": "stdout",
          "text": [
            "the no of time it was cold is: 16\n",
            "the no of time it was mild is: 16\n",
            "the no of time it was comfortable is: 16\n"
          ]
        }
      ]
    },
    {
      "cell_type": "markdown",
      "source": [
        "task 3"
      ],
      "metadata": {
        "id": "gZKFF8q6tkqK"
      }
    },
    {
      "cell_type": "code",
      "source": [
        "temperature_farenheit = []\n",
        "for i in temperature:\n",
        "  temperature_farenheit.append((i * 9/5) + 32)\n",
        "print(f\"the conversion of celsius in farenheit is: {temperature_farenheit}\")\n"
      ],
      "metadata": {
        "colab": {
          "base_uri": "https://localhost:8080/"
        },
        "id": "7QnriBdXtQXB",
        "outputId": "15ee979c-bbb1-44c3-fd72-7e4bd2778020"
      },
      "execution_count": null,
      "outputs": [
        {
          "output_type": "stream",
          "name": "stdout",
          "text": [
            "the conversion of celsius in farenheit is: [46.76, 63.32, 57.379999999999995, 46.22, 64.4, 56.3, 48.2, 64.04, 55.4, 47.3, 61.7, 55.22, 45.86, 62.959999999999994, 55.94, 47.120000000000005, 62.059999999999995, 57.2, 49.1, 64.94, 56.120000000000005, 46.58, 64.22, 57.56, 45.68, 62.6, 55.04, 46.4, 62.24, 56.66, 46.04, 63.5, 56.48, 47.66, 62.78, 56.84, 48.56, 64.58, 57.02, 46.94, 61.519999999999996, 54.86, 48.02, 64.75999999999999, 55.58, 46.04, 61.88, 54.5]\n"
          ]
        }
      ]
    },
    {
      "cell_type": "markdown",
      "source": [
        "task 4"
      ],
      "metadata": {
        "id": "bo0Rnjrbu1F_"
      }
    },
    {
      "cell_type": "code",
      "source": [
        "day = []\n",
        "night = []\n",
        "evening = []\n",
        "for i in temperature:\n",
        "  if i> 0 and i<=8 :\n",
        "    night.append(i)\n",
        "  elif i>8 and i<=16:\n",
        "    evening.append(i)\n",
        "  else:\n",
        "    day.append(i)\n",
        "print(f\"the temperature during the night is: {night}\")\n",
        "print(f\"the temperature during the evening is: {evening}\")\n",
        "print(f\"the temperature during the day is: {day}\")\n",
        "\n",
        "#this is the calculation of the average of the day\n",
        "\n",
        "count = 0\n",
        "for i in day:\n",
        "  count = count + i\n",
        "average = count / len(day)\n",
        "print(f\"the average is: {average} \")"
      ],
      "metadata": {
        "colab": {
          "base_uri": "https://localhost:8080/"
        },
        "id": "z2DjXhytu2sU",
        "outputId": "fc1209a0-0322-47ad-8f19-2aea00fc1409"
      },
      "execution_count": null,
      "outputs": [
        {
          "output_type": "stream",
          "name": "stdout",
          "text": [
            "the temperature during the night is: [7.9, 7.7, 7.6, 8.0, 7.8, 7.8]\n",
            "the temperature during the evening is: [8.2, 14.1, 13.5, 9.0, 13.0, 8.5, 12.9, 13.3, 8.4, 14.0, 9.5, 13.4, 8.1, 14.2, 12.8, 13.7, 13.6, 8.7, 13.8, 9.2, 13.9, 8.3, 12.7, 8.9, 13.1, 12.5]\n",
            "the temperature during the day is: [17.4, 18.0, 17.8, 16.5, 17.2, 16.7, 18.3, 17.9, 17.0, 16.8, 17.5, 17.1, 18.1, 16.4, 18.2, 16.6]\n",
            "the average is: 17.343750000000004 \n"
          ]
        }
      ]
    },
    {
      "cell_type": "markdown",
      "source": [
        "to do task of 8.1"
      ],
      "metadata": {
        "id": "HEoNds4fwxwT"
      }
    },
    {
      "cell_type": "markdown",
      "source": [
        "task 1"
      ],
      "metadata": {
        "id": "2ab578D84mHq"
      }
    },
    {
      "cell_type": "code",
      "source": [
        "def sum_nested_list(nested_list):\n",
        "  total = 0\n",
        "  for i in nested_list:\n",
        "    if isinstance(i,list):\n",
        "      total += sum_nested_list(i)\n",
        "    else:\n",
        "      total += i\n",
        "  return total\n",
        "nested_list = [1, [2, [3, 4], 5], 6, [7, 8]]\n",
        "print(sum_nested_list(nested_list))"
      ],
      "metadata": {
        "colab": {
          "base_uri": "https://localhost:8080/"
        },
        "id": "3ve3gCbT0Pv-",
        "outputId": "eb3a178b-145c-4947-91e9-762aab422838"
      },
      "execution_count": null,
      "outputs": [
        {
          "output_type": "stream",
          "name": "stdout",
          "text": [
            "36\n"
          ]
        }
      ]
    },
    {
      "cell_type": "markdown",
      "source": [
        "task 2\n"
      ],
      "metadata": {
        "id": "jfLGr56V4o_I"
      }
    },
    {
      "cell_type": "code",
      "source": [
        "def generate_permutations(s):\n",
        "    if len(s) == 0:\n",
        "        return ['']\n",
        "    unique_permutations = set()\n",
        "    for i in range(len(s)):\n",
        "        remaining_string = s[:i] + s[i+1:]\n",
        "        for perm in generate_permutations(remaining_string):\n",
        "            unique_permutations.add(s[i] + perm)\n",
        "    return list(unique_permutations)\n",
        "print(generate_permutations(\"abc\"))\n",
        "print(generate_permutations(\"aab\"))\n"
      ],
      "metadata": {
        "id": "dulI49Jd4qND"
      },
      "execution_count": null,
      "outputs": []
    },
    {
      "cell_type": "markdown",
      "source": [
        "task 3"
      ],
      "metadata": {
        "id": "qJlzo74B7Q3r"
      }
    },
    {
      "cell_type": "code",
      "source": [
        "def calculate_directory_size(directory):\n",
        "  total = 0\n",
        "  for key, value in directory.items():\n",
        "    if isinstance(value, dict):\n",
        "      total += calculate_directory_size(value)\n",
        "    else:\n",
        "      total += value\n",
        "  return total\n",
        "directory_structure = {\n",
        "\"file1.txt\": 200,\n",
        "\"file2.txt\": 300,\n",
        "\"subdir1\": {\n",
        "\"file3.txt\": 400,\n",
        "\"file4.txt\": 100\n",
        "},\n",
        "\"subdir2\": {\n",
        "\"subsubdir1\": {\n",
        "\"file5.txt\": 250\n",
        "},\n",
        "\"file6.txt\": 150\n",
        "}\n",
        "}\n",
        "answer = calculate_directory_size(directory_structure)\n",
        "print(f\"this is the total: {answer}\")"
      ],
      "metadata": {
        "colab": {
          "base_uri": "https://localhost:8080/"
        },
        "id": "0NS4l3hs7TJs",
        "outputId": "a4f02a59-4657-46ea-d4f5-591a0ecc9119"
      },
      "execution_count": null,
      "outputs": [
        {
          "output_type": "stream",
          "name": "stdout",
          "text": [
            "this is the total: 1400\n"
          ]
        }
      ]
    },
    {
      "cell_type": "markdown",
      "source": [
        "task1"
      ],
      "metadata": {
        "id": "7IhI8j_NsQ3r"
      }
    },
    {
      "cell_type": "code",
      "source": [
        "def min_coins(coins, amount):\n",
        "    dp = [float('inf')] * (amount + 1)\n",
        "    dp[0] = 0\n",
        "    for i in range(1, amount + 1):\n",
        "        for coin in coins:\n",
        "            if coin <= i:\n",
        "                dp[i] = min(dp[i], dp[i - coin] + 1)\n",
        "\n",
        "    return dp[amount] if dp[amount]!= float('inf') else -1\n",
        "coins = [1, 2, 5]\n",
        "amount = 11\n",
        "result = min_coins(coins, amount)\n",
        "print(result)\n"
      ],
      "metadata": {
        "id": "osdMWit-sPtH"
      },
      "execution_count": null,
      "outputs": []
    },
    {
      "cell_type": "markdown",
      "source": [
        "task2"
      ],
      "metadata": {
        "id": "HO8f92MlsYx2"
      }
    },
    {
      "cell_type": "code",
      "source": [
        "def longest_common_subsequence(s1, s2):\n",
        "    m, n = len(s1), len(s2)\n",
        "    dp = [[0] * (n + 1) for _ in range(m + 1)]\n",
        "    for i in range(1, m + 1):\n",
        "        for j in range(1, n + 1):\n",
        "            if s1[i - 1] == s2[j - 1]:\n",
        "                dp[i][j] = dp[i - 1][j - 1] + 1\n",
        "            else:\n",
        "                dp[i][j] = max(dp[i - 1][j], dp[i][j - 1])\n",
        "    return dp[m][n]\n",
        "s1 = \"abcde\"\n",
        "s2 = \"ace\"\n",
        "result = longest_common_subsequence(s1, s2)\n",
        "print(result)\n"
      ],
      "metadata": {
        "id": "ZANmUujPsaac"
      },
      "execution_count": null,
      "outputs": []
    },
    {
      "cell_type": "markdown",
      "source": [
        "task3"
      ],
      "metadata": {
        "id": "1CapMUZdspdW"
      }
    },
    {
      "cell_type": "code",
      "source": [],
      "metadata": {
        "id": "XQ4Yofpisqf2"
      },
      "execution_count": null,
      "outputs": []
    }
  ]
}